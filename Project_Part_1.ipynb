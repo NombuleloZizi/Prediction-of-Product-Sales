{
  "nbformat": 4,
  "nbformat_minor": 0,
  "metadata": {
    "colab": {
      "provenance": [],
      "authorship_tag": "ABX9TyO5cXRg0Fgo2VuUpN++Ocq3",
      "include_colab_link": true
    },
    "kernelspec": {
      "name": "python3",
      "display_name": "Python 3"
    },
    "language_info": {
      "name": "python"
    }
  },
  "cells": [
    {
      "cell_type": "markdown",
      "metadata": {
        "id": "view-in-github",
        "colab_type": "text"
      },
      "source": [
        "<a href=\"https://colab.research.google.com/github/NombuleloZizi/Prediction-of-Product-Sales/blob/main/Project_Part_1.ipynb\" target=\"_parent\"><img src=\"https://colab.research.google.com/assets/colab-badge.svg\" alt=\"Open In Colab\"/></a>"
      ]
    },
    {
      "cell_type": "markdown",
      "source": [
        "#Prediction of Product Sales\n"
      ],
      "metadata": {
        "id": "DgF1DX4TRNgj"
      }
    },
    {
      "cell_type": "markdown",
      "source": [
        "*   Author: Nombulelo Zizi\n"
      ],
      "metadata": {
        "id": "mMyIEsNNSnh8"
      }
    },
    {
      "cell_type": "markdown",
      "source": [
        "#Project Overview\n"
      ],
      "metadata": {
        "id": "0qdxdX7VSpwx"
      }
    },
    {
      "cell_type": "code",
      "source": [],
      "metadata": {
        "id": "zho4lyk5S9xr"
      },
      "execution_count": null,
      "outputs": []
    },
    {
      "cell_type": "markdown",
      "source": [
        "#Load and Inspect Data\n"
      ],
      "metadata": {
        "id": "4UKGlzdGSrlf"
      }
    },
    {
      "cell_type": "code",
      "source": [],
      "metadata": {
        "id": "IreeH37hS-07"
      },
      "execution_count": null,
      "outputs": []
    },
    {
      "cell_type": "markdown",
      "source": [
        "#Clean Data\n"
      ],
      "metadata": {
        "id": "soZTB2s7StPg"
      }
    },
    {
      "cell_type": "code",
      "source": [],
      "metadata": {
        "id": "CkIuxA5qS_rI"
      },
      "execution_count": null,
      "outputs": []
    },
    {
      "cell_type": "markdown",
      "source": [
        "#Exploratory Data Analysis\n"
      ],
      "metadata": {
        "id": "SfLxaUGeSvGv"
      }
    },
    {
      "cell_type": "code",
      "source": [],
      "metadata": {
        "id": "lxpZ7dRXTBeu"
      },
      "execution_count": null,
      "outputs": []
    },
    {
      "cell_type": "markdown",
      "source": [
        "#Explanatory Data Analysis"
      ],
      "metadata": {
        "id": "VaRx3Q2ZSxMz"
      }
    }
  ]
}